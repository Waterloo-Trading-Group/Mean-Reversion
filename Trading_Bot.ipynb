{
 "cells": [
  {
   "cell_type": "code",
   "execution_count": 12,
   "metadata": {},
   "outputs": [],
   "source": [
    "import yfinance as yf\n",
    "import pandas as pd\n",
    "import matplotlib.pyplot as plt\n",
    "import numpy\n",
    "import datetime\n",
    "import plotly\n",
    "from plotly import graph_objs as go"
   ]
  },
  {
   "cell_type": "code",
   "execution_count": 4,
   "metadata": {},
   "outputs": [
    {
     "data": {
      "text/html": [
       "<div>\n",
       "<style scoped>\n",
       "    .dataframe tbody tr th:only-of-type {\n",
       "        vertical-align: middle;\n",
       "    }\n",
       "\n",
       "    .dataframe tbody tr th {\n",
       "        vertical-align: top;\n",
       "    }\n",
       "\n",
       "    .dataframe thead th {\n",
       "        text-align: right;\n",
       "    }\n",
       "</style>\n",
       "<table border=\"1\" class=\"dataframe\">\n",
       "  <thead>\n",
       "    <tr style=\"text-align: right;\">\n",
       "      <th></th>\n",
       "      <th>Symbol</th>\n",
       "      <th>Description</th>\n",
       "      <th>Category2</th>\n",
       "      <th>GICS Sector</th>\n",
       "      <th>Market cap</th>\n",
       "      <th>Market Cap Weight</th>\n",
       "      <th>Index Weight</th>\n",
       "      <th>Dividend yield</th>\n",
       "      <th>Country</th>\n",
       "      <th>Action</th>\n",
       "    </tr>\n",
       "  </thead>\n",
       "  <tbody>\n",
       "    <tr>\n",
       "      <th>24</th>\n",
       "      <td>KO</td>\n",
       "      <td>Coca-Cola</td>\n",
       "      <td>Common stocks</td>\n",
       "      <td>Consumer Staples</td>\n",
       "      <td>$262,541,200,257</td>\n",
       "      <td>2.60%</td>\n",
       "      <td>1.19%</td>\n",
       "      <td>2.84%</td>\n",
       "      <td>USA</td>\n",
       "      <td>Analyze</td>\n",
       "    </tr>\n",
       "    <tr>\n",
       "      <th>26</th>\n",
       "      <td>CSCO</td>\n",
       "      <td>Cisco Systems Inc</td>\n",
       "      <td>Common stocks</td>\n",
       "      <td>Information Technology</td>\n",
       "      <td>$191,431,049,741</td>\n",
       "      <td>1.90%</td>\n",
       "      <td>0.89%</td>\n",
       "      <td>3.21%</td>\n",
       "      <td>USA</td>\n",
       "      <td>Analyze</td>\n",
       "    </tr>\n",
       "    <tr>\n",
       "      <th>27</th>\n",
       "      <td>WBA</td>\n",
       "      <td>Walgreen Boots Alliance Inc</td>\n",
       "      <td>Common stocks</td>\n",
       "      <td>Consumer Staples</td>\n",
       "      <td>$34,704,949,342</td>\n",
       "      <td>0.34%</td>\n",
       "      <td>0.75%</td>\n",
       "      <td>4.69%</td>\n",
       "      <td>USA</td>\n",
       "      <td>Analyze</td>\n",
       "    </tr>\n",
       "    <tr>\n",
       "      <th>28</th>\n",
       "      <td>VZ</td>\n",
       "      <td>Verizon Communications Inc</td>\n",
       "      <td>Common stocks</td>\n",
       "      <td>Communication Services</td>\n",
       "      <td>$160,265,033,778</td>\n",
       "      <td>1.59%</td>\n",
       "      <td>0.75%</td>\n",
       "      <td>6.60%</td>\n",
       "      <td>USA</td>\n",
       "      <td>Analyze</td>\n",
       "    </tr>\n",
       "    <tr>\n",
       "      <th>29</th>\n",
       "      <td>INTC</td>\n",
       "      <td>Intel Corporation Corp</td>\n",
       "      <td>Common stocks</td>\n",
       "      <td>Information Technology</td>\n",
       "      <td>$123,356,030,000</td>\n",
       "      <td>1.22%</td>\n",
       "      <td>0.58%</td>\n",
       "      <td>4.80%</td>\n",
       "      <td>USA</td>\n",
       "      <td>Analyze</td>\n",
       "    </tr>\n",
       "  </tbody>\n",
       "</table>\n",
       "</div>"
      ],
      "text/plain": [
       "   Symbol                  Description      Category2             GICS Sector  \\\n",
       "24     KO                    Coca-Cola  Common stocks        Consumer Staples   \n",
       "26   CSCO            Cisco Systems Inc  Common stocks  Information Technology   \n",
       "27    WBA  Walgreen Boots Alliance Inc  Common stocks        Consumer Staples   \n",
       "28     VZ   Verizon Communications Inc  Common stocks  Communication Services   \n",
       "29   INTC       Intel Corporation Corp  Common stocks  Information Technology   \n",
       "\n",
       "          Market cap Market Cap Weight Index Weight Dividend yield Country  \\\n",
       "24  $262,541,200,257             2.60%        1.19%          2.84%     USA   \n",
       "26  $191,431,049,741             1.90%        0.89%          3.21%     USA   \n",
       "27   $34,704,949,342             0.34%        0.75%          4.69%     USA   \n",
       "28  $160,265,033,778             1.59%        0.75%          6.60%     USA   \n",
       "29  $123,356,030,000             1.22%        0.58%          4.80%     USA   \n",
       "\n",
       "     Action  \n",
       "24  Analyze  \n",
       "26  Analyze  \n",
       "27  Analyze  \n",
       "28  Analyze  \n",
       "29  Analyze  "
      ]
     },
     "execution_count": 4,
     "metadata": {},
     "output_type": "execute_result"
    }
   ],
   "source": [
    "djia_constituents = pd.read_csv(r\"C:\\Users\\malani\\Documents\\Mean-Reversion-Algorithm-Trading-Bot\\Stocks in the Dow Jones Industrial Average.csv\")\n",
    "djia_constituents = djia_constituents.drop(25)\n",
    "djia_constituents.tail()"
   ]
  },
  {
   "cell_type": "code",
   "execution_count": 41,
   "metadata": {},
   "outputs": [
    {
     "name": "stdout",
     "output_type": "stream",
     "text": [
      "                                Close     UPPERBB     LOWERBB  LOWER_THRESH  \\\n",
      "Date                                                                          \n",
      "2022-07-29 00:00:00-04:00  162.015808  160.985352  137.445369    141.838211   \n",
      "2022-08-01 00:00:00-04:00  161.018860  162.104894  138.576962    142.955536   \n",
      "2022-08-02 00:00:00-04:00  159.523407  162.867406  139.653838    143.944624   \n",
      "2022-08-03 00:00:00-04:00  165.624817  164.919902  139.915285    144.642263   \n",
      "2022-08-04 00:00:00-04:00  165.305786  166.743755  140.031513    145.175698   \n",
      "...                               ...         ...         ...           ...   \n",
      "2022-11-14 00:00:00-05:00  148.279999  156.658121  134.461259    138.554878   \n",
      "2022-11-15 00:00:00-05:00  150.039993  157.114169  134.658017    138.813194   \n",
      "2022-11-16 00:00:00-05:00  148.789993  157.391034  134.897977    139.059796   \n",
      "2022-11-17 00:00:00-05:00  150.720001  157.854445  135.191313    139.391867   \n",
      "2022-11-18 00:00:00-05:00  151.289993  158.266207  135.205940    139.503646   \n",
      "\n",
      "                           HIGHER_THRESH  \n",
      "Date                                      \n",
      "2022-07-29 00:00:00-04:00     156.592510  \n",
      "2022-08-01 00:00:00-04:00     157.726320  \n",
      "2022-08-02 00:00:00-04:00     158.576621  \n",
      "2022-08-03 00:00:00-04:00     160.192924  \n",
      "2022-08-04 00:00:00-04:00     161.599571  \n",
      "...                                  ...  \n",
      "2022-11-14 00:00:00-05:00     152.564502  \n",
      "2022-11-15 00:00:00-05:00     152.958992  \n",
      "2022-11-16 00:00:00-05:00     153.229215  \n",
      "2022-11-17 00:00:00-05:00     153.653891  \n",
      "2022-11-18 00:00:00-05:00     153.968501  \n",
      "\n",
      "[80 rows x 5 columns]\n"
     ]
    }
   ],
   "source": [
    "# sample = pd.DataFrame(columns=['Ticker', 'Prices'])\n",
    "sample = {}\n",
    "\n",
    "# Add a risk tolerence in the future \n",
    "\n",
    "for i in range(len(djia_constituents)):\n",
    "    ticker=yf.Ticker(djia_constituents.iat[i, 0])\n",
    "    data = ticker.history(period='100d')\n",
    "    del data['Dividends']\n",
    "    del data['Stock Splits']\n",
    "    del data['Open']\n",
    "    del data['High']\n",
    "    del data['Low']\n",
    "    del data['Volume']\n",
    "    data[\"STD\"] = data[\"Close\"].rolling(20).std()\n",
    "    data[\"MIDDLEBB\"] = data[\"Close\"].rolling(20).mean()\n",
    "    data[\"UPPERBB\"] = data[\"MIDDLEBB\"] + 2 * data[\"STD\"]\n",
    "    data[\"LOWERBB\"] = data[\"MIDDLEBB\"] - 2 * data[\"STD\"]\n",
    "    data[\"LOWER_THRESH\"] = (data[\"LOWERBB\"] + data[\"MIDDLEBB\"]*0.98) / 2\n",
    "    data[\"HIGHER_THRESH\"] = (data[\"UPPERBB\"] + data[\"MIDDLEBB\"]*1.02) / 2\n",
    "    data = data.tail(data.shape[0] -20)\n",
    "    del data[\"STD\"]\n",
    "    del data[\"MIDDLEBB\"]\n",
    "\n",
    "    # sample.insert(i, \"Ticker\", ticker)\n",
    "    sample.update({djia_constituents.iat[i, 0] : data})\n",
    "\n",
    "print(sample['AAPL'])"
   ]
  },
  {
   "cell_type": "code",
   "execution_count": 43,
   "metadata": {},
   "outputs": [
    {
     "data": {
      "text/plain": [
       "<AxesSubplot:xlabel='Date'>"
      ]
     },
     "execution_count": 43,
     "metadata": {},
     "output_type": "execute_result"
    },
    {
     "data": {
      "image/png": "[encoded data removed]",
      "text/plain": [
       "<Figure size 432x288 with 1 Axes>"
      ]
     },
     "metadata": {
      "needs_background": "light"
     },
     "output_type": "display_data"
    }
   ],
   "source": [
    "sample['AAPL'].plot()"
   ]
  },
  {
   "cell_type": "code",
   "execution_count": null,
   "metadata": {},
   "outputs": [],
   "source": []
  }
 ],
 "metadata": {
  "kernelspec": {
   "display_name": "Python 3.9.11 ('base')",
   "language": "python",
   "name": "python3"
  },
  "language_info": {
   "codemirror_mode": {
    "name": "ipython",
    "version": 3
   },
   "file_extension": ".py",
   "mimetype": "text/x-python",
   "name": "python",
   "nbconvert_exporter": "python",
   "pygments_lexer": "ipython3",
   "version": "3.9.11"
  },
  "orig_nbformat": 4,
  "vscode": {
   "interpreter": {
    "hash": "8c256f98918fdf565fb0594991b062fbac57fe52d8658946f807bb66ca7d9c01"
   }
  }
 },
 "nbformat": 4,
 "nbformat_minor": 2
}
